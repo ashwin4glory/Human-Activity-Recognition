{
 "cells": [
  {
   "cell_type": "code",
   "execution_count": 0,
   "metadata": {
    "colab": {},
    "colab_type": "code",
    "id": "PuFhq7QOrMlw"
   },
   "outputs": [],
   "source": [
    "# Importing Libraries"
   ]
  },
  {
   "cell_type": "code",
   "execution_count": 0,
   "metadata": {
    "colab": {},
    "colab_type": "code",
    "id": "t3zusbK5rMl7"
   },
   "outputs": [],
   "source": [
    "import pandas as pd\n",
    "import numpy as np"
   ]
  },
  {
   "cell_type": "code",
   "execution_count": 0,
   "metadata": {
    "colab": {},
    "colab_type": "code",
    "id": "iCxf1HvWrMnA"
   },
   "outputs": [],
   "source": [
    "# Importing libraries\n",
    "from keras.models import Sequential\n",
    "from keras.layers import LSTM,BatchNormalization, Conv1D, MaxPooling1D , Flatten\n",
    "from keras.layers.core import Dense, Dropout"
   ]
  },
  {
   "cell_type": "code",
   "execution_count": 0,
   "metadata": {
    "colab": {},
    "colab_type": "code",
    "id": "vZxvlentamCJ"
   },
   "outputs": [],
   "source": [
    "from sklearn.metrics import accuracy_score"
   ]
  },
  {
   "cell_type": "code",
   "execution_count": 0,
   "metadata": {
    "colab": {
     "base_uri": "https://localhost:8080/",
     "height": 122
    },
    "colab_type": "code",
    "id": "NxdfVZ7hs_s-",
    "outputId": "219f50ba-776d-462c-a9bc-e8806e09b349"
   },
   "outputs": [
    {
     "name": "stdout",
     "output_type": "stream",
     "text": [
      "Go to this URL in a browser: https://accounts.google.com/o/oauth2/auth?client_id=947318989803-6bn6qk8qdgf4n4g3pfee6491hc0brc4i.apps.googleusercontent.com&redirect_uri=urn%3Aietf%3Awg%3Aoauth%3A2.0%3Aoob&scope=email%20https%3A%2F%2Fwww.googleapis.com%2Fauth%2Fdocs.test%20https%3A%2F%2Fwww.googleapis.com%2Fauth%2Fdrive%20https%3A%2F%2Fwww.googleapis.com%2Fauth%2Fdrive.photos.readonly%20https%3A%2F%2Fwww.googleapis.com%2Fauth%2Fpeopleapi.readonly&response_type=code\n",
      "\n",
      "Enter your authorization code:\n",
      "··········\n",
      "Mounted at /content/gdrive\n"
     ]
    }
   ],
   "source": [
    "from google.colab import drive\n",
    "drive.mount('/content/gdrive')"
   ]
  },
  {
   "cell_type": "markdown",
   "metadata": {
    "colab_type": "text",
    "id": "yiT2CWUmrMmI"
   },
   "source": [
    "### Data"
   ]
  },
  {
   "cell_type": "code",
   "execution_count": 0,
   "metadata": {
    "colab": {},
    "colab_type": "code",
    "id": "uw6vmjdOrMmm"
   },
   "outputs": [],
   "source": [
    "def data():\n",
    "    ''' This function is to load the data'''\n",
    "    SIGNALS = [\n",
    "    \"body_acc_x\",\n",
    "    \"body_acc_y\",\n",
    "    \"body_acc_z\",\n",
    "    \"body_gyro_x\",\n",
    "    \"body_gyro_y\",\n",
    "    \"body_gyro_z\",\n",
    "    \"total_acc_x\",\n",
    "    \"total_acc_y\",\n",
    "    \"total_acc_z\"\n",
    "    ]\n",
    "    signals_data = []\n",
    "\n",
    "    for signal in SIGNALS:\n",
    "        filename = f'gdrive/My Drive/UCI_HAR_Dataset/train/Inertial Signals/{signal}_train.txt'\n",
    "        signals_data.append(\n",
    "            pd.read_csv(filename, delim_whitespace=True, header=None).as_matrix()\n",
    "        ) \n",
    "    X_train = np.transpose(signals_data, (1, 2, 0))\n",
    "    \n",
    "    signals_data = []\n",
    "\n",
    "    for signal in SIGNALS:\n",
    "        filename = f'gdrive/My Drive/UCI_HAR_Dataset/test/Inertial Signals/{signal}_test.txt'\n",
    "        signals_data.append(\n",
    "            pd.read_csv(filename, delim_whitespace=True, header=None).as_matrix()\n",
    "        ) \n",
    "    X_test = np.transpose(signals_data, (1, 2, 0))\n",
    "    \n",
    "    filename = f'gdrive/My Drive/UCI_HAR_Dataset/train/y_train.txt'\n",
    "    y = pd.read_csv(filename, delim_whitespace=True, header=None)[0]\n",
    "    Y_train = pd.get_dummies(y).as_matrix()\n",
    "    \n",
    "    filename = f'gdrive/My Drive/UCI_HAR_Dataset/test/y_test.txt'\n",
    "    y = pd.read_csv(filename, delim_whitespace=True, header=None)[0]\n",
    "    Y_test = pd.get_dummies(y).as_matrix()\n",
    "    \n",
    "    return X_train , Y_train , X_test , Y_test"
   ]
  },
  {
   "cell_type": "code",
   "execution_count": 0,
   "metadata": {
    "colab": {},
    "colab_type": "code",
    "id": "x-jrxNJYrMmq"
   },
   "outputs": [],
   "source": [
    "# Importing tensorflow\n",
    "np.random.seed(42)\n",
    "import tensorflow as tf\n",
    "tf.set_random_seed(42)"
   ]
  },
  {
   "cell_type": "code",
   "execution_count": 0,
   "metadata": {
    "colab": {},
    "colab_type": "code",
    "id": "7GjFeoTTrMmy"
   },
   "outputs": [],
   "source": [
    "# Configuring a session\n",
    "session_conf = tf.ConfigProto(\n",
    "    intra_op_parallelism_threads=1,\n",
    "    inter_op_parallelism_threads=1\n",
    ")"
   ]
  },
  {
   "cell_type": "code",
   "execution_count": 0,
   "metadata": {
    "colab": {
     "base_uri": "https://localhost:8080/",
     "height": 34
    },
    "colab_type": "code",
    "id": "waSg6j7ArMm6",
    "outputId": "fd7d0db8-3e76-4828-8e4f-ffa31876318d"
   },
   "outputs": [
    {
     "name": "stderr",
     "output_type": "stream",
     "text": [
      "Using TensorFlow backend.\n"
     ]
    }
   ],
   "source": [
    "# Import Keras\n",
    "from keras import backend as K\n",
    "sess = tf.Session(graph=tf.get_default_graph(), config=session_conf)\n",
    "K.set_session(sess)"
   ]
  },
  {
   "cell_type": "code",
   "execution_count": 0,
   "metadata": {
    "colab": {},
    "colab_type": "code",
    "id": "rK7fy_RerMnJ"
   },
   "outputs": [],
   "source": [
    "# Initializing parameters\n",
    "epochs = 30\n",
    "batch_size = 32\n",
    "n_hidden = 32"
   ]
  },
  {
   "cell_type": "code",
   "execution_count": 0,
   "metadata": {
    "colab": {
     "base_uri": "https://localhost:8080/",
     "height": 85
    },
    "colab_type": "code",
    "id": "BJd2NL_GrMnT",
    "outputId": "67f5eedc-a0d7-4a42-b33a-e1d44a798b92"
   },
   "outputs": [
    {
     "name": "stderr",
     "output_type": "stream",
     "text": [
      "/usr/local/lib/python3.6/dist-packages/ipykernel_launcher.py:18: FutureWarning: Method .as_matrix will be removed in a future version. Use .values instead.\n",
      "/usr/local/lib/python3.6/dist-packages/ipykernel_launcher.py:27: FutureWarning: Method .as_matrix will be removed in a future version. Use .values instead.\n",
      "/usr/local/lib/python3.6/dist-packages/ipykernel_launcher.py:33: FutureWarning: Method .as_matrix will be removed in a future version. Use .values instead.\n",
      "/usr/local/lib/python3.6/dist-packages/ipykernel_launcher.py:37: FutureWarning: Method .as_matrix will be removed in a future version. Use .values instead.\n"
     ]
    }
   ],
   "source": [
    "# Loading the train and test data\n",
    "X_train, Y_train,X_test, Y_test = data()"
   ]
  },
  {
   "cell_type": "code",
   "execution_count": 0,
   "metadata": {
    "colab": {
     "base_uri": "https://localhost:8080/",
     "height": 68
    },
    "colab_type": "code",
    "id": "ydNAWM3OrMnc",
    "outputId": "558981f7-10f0-48e2-a591-5a7faef82fd8"
   },
   "outputs": [
    {
     "name": "stdout",
     "output_type": "stream",
     "text": [
      "128\n",
      "9\n",
      "7352\n"
     ]
    }
   ],
   "source": [
    "timesteps = len(X_train[0])\n",
    "input_dim = len(X_train[0][0])\n",
    "n_classes = 6\n",
    "\n",
    "print(timesteps)\n",
    "print(input_dim)\n",
    "print(len(X_train))"
   ]
  },
  {
   "cell_type": "code",
   "execution_count": 0,
   "metadata": {
    "colab": {},
    "colab_type": "code",
    "id": "3UdxZOsTrvQl"
   },
   "outputs": [],
   "source": [
    "# Activities are the class labels\n",
    "# It is a 6 class classification\n",
    "ACTIVITIES = {\n",
    "    0: 'WALKING',\n",
    "    1: 'WALKING_UPSTAIRS',\n",
    "    2: 'WALKING_DOWNSTAIRS',\n",
    "    3: 'SITTING',\n",
    "    4: 'STANDING',\n",
    "    5: 'LAYING',\n",
    "}\n",
    "\n",
    "# Utility function to print the confusion matrix\n",
    "def confusion_matrix(Y_true, Y_pred):\n",
    "    Y_true = pd.Series([ACTIVITIES[y] for y in np.argmax(Y_true, axis=1)])\n",
    "    Y_pred = pd.Series([ACTIVITIES[y] for y in np.argmax(Y_pred, axis=1)])\n",
    "\n",
    "    return pd.crosstab(Y_true, Y_pred, rownames=['True'], colnames=['Pred'])"
   ]
  },
  {
   "cell_type": "code",
   "execution_count": 0,
   "metadata": {
    "colab": {
     "base_uri": "https://localhost:8080/",
     "height": 238
    },
    "colab_type": "code",
    "id": "3rQ1XVr9724B",
    "outputId": "fd6feabf-c537-43e9-a7c3-88e0a9a999d3"
   },
   "outputs": [
    {
     "name": "stdout",
     "output_type": "stream",
     "text": [
      "_________________________________________________________________\n",
      "Layer (type)                 Output Shape              Param #   \n",
      "=================================================================\n",
      "lstm_2 (LSTM)                (None, 32)                5376      \n",
      "_________________________________________________________________\n",
      "dropout_155 (Dropout)        (None, 32)                0         \n",
      "_________________________________________________________________\n",
      "dense_206 (Dense)            (None, 6)                 198       \n",
      "=================================================================\n",
      "Total params: 5,574\n",
      "Trainable params: 5,574\n",
      "Non-trainable params: 0\n",
      "_________________________________________________________________\n"
     ]
    }
   ],
   "source": [
    "# Initiliazing the sequential model\n",
    "model_1 = Sequential()\n",
    "# Configuring the parameters\n",
    "model_1.add(LSTM(n_hidden, input_shape=(timesteps, input_dim)))\n",
    "# Adding a dropout layer\n",
    "model_1.add(Dropout(0.5))\n",
    "# Adding a dense output layer with sigmoid activation\n",
    "model_1.add(Dense(n_classes, activation='sigmoid'))\n",
    "model_1.summary()"
   ]
  },
  {
   "cell_type": "code",
   "execution_count": 0,
   "metadata": {
    "colab": {},
    "colab_type": "code",
    "id": "lQSTdS4p72tp"
   },
   "outputs": [],
   "source": [
    "# Compiling the model\n",
    "model_1.compile(loss='categorical_crossentropy',\n",
    "              optimizer='rmsprop',\n",
    "              metrics=['accuracy'])"
   ]
  },
  {
   "cell_type": "code",
   "execution_count": 0,
   "metadata": {
    "colab": {
     "base_uri": "https://localhost:8080/",
     "height": 1000
    },
    "colab_type": "code",
    "id": "qpKrV7K-72lQ",
    "outputId": "43f60257-158b-4233-b673-8070504b6bd4"
   },
   "outputs": [
    {
     "name": "stdout",
     "output_type": "stream",
     "text": [
      "Train on 7352 samples, validate on 2947 samples\n",
      "Epoch 1/30\n",
      "7352/7352 [==============================] - 32s 4ms/step - loss: 1.4377 - acc: 0.4212 - val_loss: 1.2599 - val_acc: 0.4404\n",
      "Epoch 2/30\n",
      "7352/7352 [==============================] - 16s 2ms/step - loss: 1.1620 - acc: 0.4846 - val_loss: 1.1442 - val_acc: 0.4588\n",
      "Epoch 3/30\n",
      "7352/7352 [==============================] - 16s 2ms/step - loss: 1.0409 - acc: 0.5452 - val_loss: 0.9759 - val_acc: 0.5965\n",
      "Epoch 4/30\n",
      "7352/7352 [==============================] - 16s 2ms/step - loss: 0.8939 - acc: 0.6125 - val_loss: 0.8574 - val_acc: 0.6379\n",
      "Epoch 5/30\n",
      "7352/7352 [==============================] - 16s 2ms/step - loss: 0.7979 - acc: 0.6462 - val_loss: 0.8380 - val_acc: 0.6155\n",
      "Epoch 6/30\n",
      "7352/7352 [==============================] - 16s 2ms/step - loss: 0.7409 - acc: 0.6548 - val_loss: 0.7597 - val_acc: 0.6325\n",
      "Epoch 7/30\n",
      "7352/7352 [==============================] - 17s 2ms/step - loss: 0.7217 - acc: 0.6560 - val_loss: 0.7746 - val_acc: 0.6200\n",
      "Epoch 8/30\n",
      "7352/7352 [==============================] - 16s 2ms/step - loss: 0.6764 - acc: 0.6684 - val_loss: 0.7528 - val_acc: 0.6271\n",
      "Epoch 9/30\n",
      "7352/7352 [==============================] - 16s 2ms/step - loss: 0.6623 - acc: 0.6708 - val_loss: 0.7256 - val_acc: 0.6196\n",
      "Epoch 10/30\n",
      "7352/7352 [==============================] - 16s 2ms/step - loss: 0.6318 - acc: 0.6936 - val_loss: 0.7101 - val_acc: 0.6620\n",
      "Epoch 11/30\n",
      "7352/7352 [==============================] - 16s 2ms/step - loss: 0.6326 - acc: 0.7061 - val_loss: 0.6513 - val_acc: 0.6899\n",
      "Epoch 12/30\n",
      "7352/7352 [==============================] - 16s 2ms/step - loss: 0.5762 - acc: 0.7508 - val_loss: 0.6435 - val_acc: 0.7251\n",
      "Epoch 13/30\n",
      "7352/7352 [==============================] - 16s 2ms/step - loss: 0.5565 - acc: 0.7734 - val_loss: 0.6371 - val_acc: 0.7547\n",
      "Epoch 14/30\n",
      "7352/7352 [==============================] - 16s 2ms/step - loss: 0.5142 - acc: 0.7943 - val_loss: 0.5954 - val_acc: 0.7866\n",
      "Epoch 15/30\n",
      "7352/7352 [==============================] - 16s 2ms/step - loss: 0.4845 - acc: 0.8218 - val_loss: 0.5592 - val_acc: 0.7988\n",
      "Epoch 16/30\n",
      "7352/7352 [==============================] - 16s 2ms/step - loss: 0.4567 - acc: 0.8396 - val_loss: 0.5230 - val_acc: 0.8113\n",
      "Epoch 17/30\n",
      "7352/7352 [==============================] - 16s 2ms/step - loss: 0.4105 - acc: 0.8666 - val_loss: 0.5495 - val_acc: 0.8035\n",
      "Epoch 18/30\n",
      "7352/7352 [==============================] - 16s 2ms/step - loss: 0.3474 - acc: 0.8901 - val_loss: 0.4264 - val_acc: 0.8541\n",
      "Epoch 19/30\n",
      "7352/7352 [==============================] - 16s 2ms/step - loss: 0.3008 - acc: 0.9098 - val_loss: 0.3611 - val_acc: 0.8673\n",
      "Epoch 20/30\n",
      "7352/7352 [==============================] - 16s 2ms/step - loss: 0.2590 - acc: 0.9222 - val_loss: 0.4237 - val_acc: 0.8660\n",
      "Epoch 21/30\n",
      "7352/7352 [==============================] - 16s 2ms/step - loss: 0.2495 - acc: 0.9206 - val_loss: 0.3820 - val_acc: 0.8816\n",
      "Epoch 22/30\n",
      "7352/7352 [==============================] - 16s 2ms/step - loss: 0.2258 - acc: 0.9268 - val_loss: 0.4515 - val_acc: 0.8687\n",
      "Epoch 23/30\n",
      "7352/7352 [==============================] - 16s 2ms/step - loss: 0.2068 - acc: 0.9348 - val_loss: 0.3461 - val_acc: 0.8958\n",
      "Epoch 24/30\n",
      "7352/7352 [==============================] - 16s 2ms/step - loss: 0.4776 - acc: 0.9063 - val_loss: 2.0469 - val_acc: 0.6780\n",
      "Epoch 25/30\n",
      "7352/7352 [==============================] - 16s 2ms/step - loss: 0.2534 - acc: 0.9308 - val_loss: 0.3422 - val_acc: 0.8996\n",
      "Epoch 26/30\n",
      "7352/7352 [==============================] - 16s 2ms/step - loss: 0.1967 - acc: 0.9397 - val_loss: 0.4013 - val_acc: 0.8945\n",
      "Epoch 27/30\n",
      "7352/7352 [==============================] - 16s 2ms/step - loss: 0.1968 - acc: 0.9370 - val_loss: 1.8043 - val_acc: 0.7523\n",
      "Epoch 28/30\n",
      "7352/7352 [==============================] - 16s 2ms/step - loss: 0.2451 - acc: 0.9329 - val_loss: 0.4503 - val_acc: 0.8782\n",
      "Epoch 29/30\n",
      "7352/7352 [==============================] - 16s 2ms/step - loss: 0.1852 - acc: 0.9429 - val_loss: 0.4254 - val_acc: 0.8914\n",
      "Epoch 30/30\n",
      "7352/7352 [==============================] - 16s 2ms/step - loss: 0.1812 - acc: 0.9425 - val_loss: 0.3659 - val_acc: 0.9019\n"
     ]
    },
    {
     "data": {
      "text/plain": [
       "<keras.callbacks.History at 0x7fa10e587978>"
      ]
     },
     "execution_count": 52,
     "metadata": {
      "tags": []
     },
     "output_type": "execute_result"
    }
   ],
   "source": [
    "# Training the model\n",
    "model_1.fit(X_train,\n",
    "          Y_train,\n",
    "          batch_size=batch_size,\n",
    "          validation_data=(X_test, Y_test),\n",
    "          epochs=epochs)"
   ]
  },
  {
   "cell_type": "code",
   "execution_count": 67,
   "metadata": {
    "colab": {
     "base_uri": "https://localhost:8080/",
     "height": 51
    },
    "colab_type": "code",
    "id": "eWditXY-CYtu",
    "outputId": "85983d25-aef0-4b7e-9176-a4a141d7d465"
   },
   "outputs": [
    {
     "name": "stdout",
     "output_type": "stream",
     "text": [
      "2947/2947 [==============================] - 1s 443us/step\n"
     ]
    },
    {
     "data": {
      "text/plain": [
       "[0.36589546700399767, 0.9019341703427214]"
      ]
     },
     "execution_count": 67,
     "metadata": {
      "tags": []
     },
     "output_type": "execute_result"
    }
   ],
   "source": [
    "model_1.evaluate(X_test, Y_test)"
   ]
  },
  {
   "cell_type": "code",
   "execution_count": 68,
   "metadata": {
    "colab": {
     "base_uri": "https://localhost:8080/",
     "height": 187
    },
    "colab_type": "code",
    "id": "6jwIgy8_CqEh",
    "outputId": "b21d37a4-a6fd-4096-ee38-73b6683f7a7f"
   },
   "outputs": [
    {
     "name": "stdout",
     "output_type": "stream",
     "text": [
      "Pred                LAYING  SITTING  ...  WALKING_DOWNSTAIRS  WALKING_UPSTAIRS\n",
      "True                                 ...                                      \n",
      "LAYING                  77       89  ...                  61                96\n",
      "SITTING                 58       39  ...                  81               127\n",
      "STANDING                75       46  ...                 125                53\n",
      "WALKING                 94      125  ...                  68                80\n",
      "WALKING_DOWNSTAIRS     120       77  ...                  28                84\n",
      "WALKING_UPSTAIRS        86       66  ...                  63                44\n",
      "\n",
      "[6 rows x 6 columns]\n"
     ]
    }
   ],
   "source": [
    "# Confusion Matrix\n",
    "print(confusion_matrix(Y_train, model_1.predict(X_test)))"
   ]
  },
  {
   "cell_type": "markdown",
   "metadata": {
    "colab_type": "text",
    "id": "gk-n1iysdtH9"
   },
   "source": [
    "We ll be breaking the train data into static and dynamic activities. For that we change the labels of the train data as 1 for dynamic activities and 0 for static activities."
   ]
  },
  {
   "cell_type": "code",
   "execution_count": 0,
   "metadata": {
    "colab": {},
    "colab_type": "code",
    "id": "hiw5UBwhF_7H"
   },
   "outputs": [],
   "source": [
    "filename = f'gdrive/My Drive/UCI_HAR_Dataset/train/y_train.txt'\n",
    "y = pd.read_csv(filename, delim_whitespace=True, header=None)[0]\n",
    "y_train = y.map({1:1,2:1, 3:1,\\\n",
    "                       4:0, 5:0,6:0})"
   ]
  },
  {
   "cell_type": "code",
   "execution_count": 0,
   "metadata": {
    "colab": {},
    "colab_type": "code",
    "id": "bowMgRhaWeI9"
   },
   "outputs": [],
   "source": [
    "filename = f'gdrive/My Drive/UCI_HAR_Dataset/test/y_test.txt'\n",
    "y = pd.read_csv(filename, delim_whitespace=True, header=None)[0]\n",
    "y_test = y.map({1:1,2:1, 3:1,\\\n",
    "                       4:0, 5:0,6:0})"
   ]
  },
  {
   "cell_type": "code",
   "execution_count": 0,
   "metadata": {
    "colab": {
     "base_uri": "https://localhost:8080/",
     "height": 68
    },
    "colab_type": "code",
    "id": "afXClS8LXgG6",
    "outputId": "19a191d1-a922-464b-8dc2-86313a60c1c5"
   },
   "outputs": [
    {
     "data": {
      "text/plain": [
       "0    1560\n",
       "1    1387\n",
       "Name: 0, dtype: int64"
      ]
     },
     "execution_count": 16,
     "metadata": {
      "tags": []
     },
     "output_type": "execute_result"
    }
   ],
   "source": [
    "y_test.value_counts()"
   ]
  },
  {
   "cell_type": "code",
   "execution_count": 0,
   "metadata": {
    "colab": {
     "base_uri": "https://localhost:8080/",
     "height": 462
    },
    "colab_type": "code",
    "id": "lhYeSxfYRO2y",
    "outputId": "7a743dfc-74f5-4fb1-8aa3-15566d1f776b"
   },
   "outputs": [
    {
     "name": "stderr",
     "output_type": "stream",
     "text": [
      "WARNING: Logging before flag parsing goes to stderr.\n",
      "W0811 16:48:25.526549 140332016301952 deprecation_wrapper.py:119] From /usr/local/lib/python3.6/dist-packages/keras/backend/tensorflow_backend.py:74: The name tf.get_default_graph is deprecated. Please use tf.compat.v1.get_default_graph instead.\n",
      "\n",
      "W0811 16:48:25.533162 140332016301952 deprecation_wrapper.py:119] From /usr/local/lib/python3.6/dist-packages/keras/backend/tensorflow_backend.py:517: The name tf.placeholder is deprecated. Please use tf.compat.v1.placeholder instead.\n",
      "\n",
      "W0811 16:48:25.544402 140332016301952 deprecation_wrapper.py:119] From /usr/local/lib/python3.6/dist-packages/keras/backend/tensorflow_backend.py:4185: The name tf.truncated_normal is deprecated. Please use tf.random.truncated_normal instead.\n",
      "\n",
      "W0811 16:48:25.767262 140332016301952 deprecation_wrapper.py:119] From /usr/local/lib/python3.6/dist-packages/keras/backend/tensorflow_backend.py:133: The name tf.placeholder_with_default is deprecated. Please use tf.compat.v1.placeholder_with_default instead.\n",
      "\n",
      "W0811 16:48:25.779103 140332016301952 deprecation.py:506] From /usr/local/lib/python3.6/dist-packages/keras/backend/tensorflow_backend.py:3445: calling dropout (from tensorflow.python.ops.nn_ops) with keep_prob is deprecated and will be removed in a future version.\n",
      "Instructions for updating:\n",
      "Please use `rate` instead of `keep_prob`. Rate should be set to `rate = 1 - keep_prob`.\n"
     ]
    },
    {
     "name": "stdout",
     "output_type": "stream",
     "text": [
      "_________________________________________________________________\n",
      "Layer (type)                 Output Shape              Param #   \n",
      "=================================================================\n",
      "lstm_1 (LSTM)                (None, 32)                5376      \n",
      "_________________________________________________________________\n",
      "dropout_1 (Dropout)          (None, 32)                0         \n",
      "_________________________________________________________________\n",
      "dense_1 (Dense)              (None, 1)                 33        \n",
      "=================================================================\n",
      "Total params: 5,409\n",
      "Trainable params: 5,409\n",
      "Non-trainable params: 0\n",
      "_________________________________________________________________\n"
     ]
    }
   ],
   "source": [
    "#model to break the data into static and dynamic\n",
    "model_s = Sequential()\n",
    "model_s.add(LSTM(32, kernel_initializer='glorot_normal',input_shape=(128,9)))\n",
    "model_s.add(Dropout(0.5))\n",
    "\n",
    "model_s.add(Dense(1, activation='sigmoid',kernel_initializer='glorot_normal'))\n",
    "model_s.summary()"
   ]
  },
  {
   "cell_type": "code",
   "execution_count": 0,
   "metadata": {
    "colab": {
     "base_uri": "https://localhost:8080/",
     "height": 156
    },
    "colab_type": "code",
    "id": "qUfMbgVyROop",
    "outputId": "0e51737d-68fe-47ee-8cf3-a79393f655e6"
   },
   "outputs": [
    {
     "name": "stderr",
     "output_type": "stream",
     "text": [
      "W0811 16:48:30.244857 140332016301952 deprecation_wrapper.py:119] From /usr/local/lib/python3.6/dist-packages/keras/optimizers.py:790: The name tf.train.Optimizer is deprecated. Please use tf.compat.v1.train.Optimizer instead.\n",
      "\n",
      "W0811 16:48:30.277998 140332016301952 deprecation_wrapper.py:119] From /usr/local/lib/python3.6/dist-packages/keras/backend/tensorflow_backend.py:3376: The name tf.log is deprecated. Please use tf.math.log instead.\n",
      "\n",
      "W0811 16:48:30.285583 140332016301952 deprecation.py:323] From /usr/local/lib/python3.6/dist-packages/tensorflow/python/ops/nn_impl.py:180: add_dispatch_support.<locals>.wrapper (from tensorflow.python.ops.array_ops) is deprecated and will be removed in a future version.\n",
      "Instructions for updating:\n",
      "Use tf.where in 2.0, which has the same broadcast rule as np.where\n"
     ]
    }
   ],
   "source": [
    "model_s.compile(loss='binary_crossentropy',\n",
    "              optimizer='adam',\n",
    "              metrics=['accuracy'])"
   ]
  },
  {
   "cell_type": "code",
   "execution_count": 0,
   "metadata": {
    "colab": {
     "base_uri": "https://localhost:8080/",
     "height": 1000
    },
    "colab_type": "code",
    "id": "it9nTw06ROZ8",
    "outputId": "3e1a5e2e-fa5a-477d-f2c2-e246d7cd3798"
   },
   "outputs": [
    {
     "name": "stdout",
     "output_type": "stream",
     "text": [
      "Train on 7352 samples, validate on 2947 samples\n",
      "Epoch 1/30\n",
      "7352/7352 [==============================] - 15s 2ms/step - loss: 0.3732 - acc: 0.8196 - val_loss: 0.2864 - val_acc: 0.8795\n",
      "Epoch 2/30\n",
      "7352/7352 [==============================] - 14s 2ms/step - loss: 0.1303 - acc: 0.9683 - val_loss: 0.1088 - val_acc: 0.9742\n",
      "Epoch 3/30\n",
      "7352/7352 [==============================] - 15s 2ms/step - loss: 0.0866 - acc: 0.9774 - val_loss: 0.0993 - val_acc: 0.9762\n",
      "Epoch 4/30\n",
      "7352/7352 [==============================] - 15s 2ms/step - loss: 0.0741 - acc: 0.9810 - val_loss: 0.1005 - val_acc: 0.9769\n",
      "Epoch 5/30\n",
      "7352/7352 [==============================] - 14s 2ms/step - loss: 0.2148 - acc: 0.9374 - val_loss: 0.0986 - val_acc: 0.9698\n",
      "Epoch 6/30\n",
      "7352/7352 [==============================] - 14s 2ms/step - loss: 0.0652 - acc: 0.9825 - val_loss: 0.0909 - val_acc: 0.9705\n",
      "Epoch 7/30\n",
      "7352/7352 [==============================] - 14s 2ms/step - loss: 0.0408 - acc: 0.9879 - val_loss: 0.0840 - val_acc: 0.9739\n",
      "Epoch 8/30\n",
      "7352/7352 [==============================] - 14s 2ms/step - loss: 0.0321 - acc: 0.9905 - val_loss: 0.0641 - val_acc: 0.9861\n",
      "Epoch 9/30\n",
      "7352/7352 [==============================] - 14s 2ms/step - loss: 0.0320 - acc: 0.9917 - val_loss: 0.0763 - val_acc: 0.9854\n",
      "Epoch 10/30\n",
      "7352/7352 [==============================] - 14s 2ms/step - loss: 0.0259 - acc: 0.9937 - val_loss: 0.0411 - val_acc: 0.9915\n",
      "Epoch 11/30\n",
      "7352/7352 [==============================] - 14s 2ms/step - loss: 0.0198 - acc: 0.9963 - val_loss: 0.0407 - val_acc: 0.9932\n",
      "Epoch 12/30\n",
      "7352/7352 [==============================] - 14s 2ms/step - loss: 0.0232 - acc: 0.9958 - val_loss: 0.0400 - val_acc: 0.9925\n",
      "Epoch 13/30\n",
      "7352/7352 [==============================] - 14s 2ms/step - loss: 0.0110 - acc: 0.9980 - val_loss: 0.0508 - val_acc: 0.9919\n",
      "Epoch 14/30\n",
      "7352/7352 [==============================] - 14s 2ms/step - loss: 0.0120 - acc: 0.9982 - val_loss: 0.0579 - val_acc: 0.9895\n",
      "Epoch 15/30\n",
      "7352/7352 [==============================] - 14s 2ms/step - loss: 0.0104 - acc: 0.9984 - val_loss: 0.0407 - val_acc: 0.9932\n",
      "Epoch 16/30\n",
      "7352/7352 [==============================] - 14s 2ms/step - loss: 0.0102 - acc: 0.9988 - val_loss: 0.0349 - val_acc: 0.9942\n",
      "Epoch 17/30\n",
      "7352/7352 [==============================] - 14s 2ms/step - loss: 0.0079 - acc: 0.9990 - val_loss: 0.0399 - val_acc: 0.9936\n",
      "Epoch 18/30\n",
      "7352/7352 [==============================] - 14s 2ms/step - loss: 0.0060 - acc: 0.9989 - val_loss: 0.0442 - val_acc: 0.9929\n",
      "Epoch 19/30\n",
      "7352/7352 [==============================] - 14s 2ms/step - loss: 0.0071 - acc: 0.9989 - val_loss: 0.0432 - val_acc: 0.9922\n",
      "Epoch 20/30\n",
      "7352/7352 [==============================] - 14s 2ms/step - loss: 0.0069 - acc: 0.9989 - val_loss: 0.0327 - val_acc: 0.9942\n",
      "Epoch 21/30\n",
      "7352/7352 [==============================] - 14s 2ms/step - loss: 0.0054 - acc: 0.9992 - val_loss: 0.0316 - val_acc: 0.9942\n",
      "Epoch 22/30\n",
      "7352/7352 [==============================] - 14s 2ms/step - loss: 0.2681 - acc: 0.8743 - val_loss: 0.1006 - val_acc: 0.9674\n",
      "Epoch 23/30\n",
      "7352/7352 [==============================] - 14s 2ms/step - loss: 0.0573 - acc: 0.9894 - val_loss: 0.0619 - val_acc: 0.9793\n",
      "Epoch 24/30\n",
      "7352/7352 [==============================] - 14s 2ms/step - loss: 0.0287 - acc: 0.9946 - val_loss: 0.0440 - val_acc: 0.9820\n",
      "Epoch 25/30\n",
      "7352/7352 [==============================] - 14s 2ms/step - loss: 0.0242 - acc: 0.9961 - val_loss: 0.0377 - val_acc: 0.9824\n",
      "Epoch 26/30\n",
      "7352/7352 [==============================] - 14s 2ms/step - loss: 0.0188 - acc: 0.9970 - val_loss: 0.0436 - val_acc: 0.9817\n",
      "Epoch 27/30\n",
      "7352/7352 [==============================] - 14s 2ms/step - loss: 0.0218 - acc: 0.9956 - val_loss: 0.0399 - val_acc: 0.9895\n",
      "Epoch 28/30\n",
      "7352/7352 [==============================] - 14s 2ms/step - loss: 0.0112 - acc: 0.9978 - val_loss: 0.0324 - val_acc: 0.9939\n",
      "Epoch 29/30\n",
      "7352/7352 [==============================] - 14s 2ms/step - loss: 0.0049 - acc: 0.9988 - val_loss: 0.0324 - val_acc: 0.9942\n",
      "Epoch 30/30\n",
      "7352/7352 [==============================] - 14s 2ms/step - loss: 0.0040 - acc: 0.9995 - val_loss: 0.0369 - val_acc: 0.9939\n"
     ]
    },
    {
     "data": {
      "text/plain": [
       "<keras.callbacks.History at 0x7fa15a195908>"
      ]
     },
     "execution_count": 19,
     "metadata": {
      "tags": []
     },
     "output_type": "execute_result"
    }
   ],
   "source": [
    "model_s.fit(X_train, y_train, batch_size=32, validation_data=(X_test, y_test),epochs=30)"
   ]
  },
  {
   "cell_type": "code",
   "execution_count": 0,
   "metadata": {
    "colab": {},
    "colab_type": "code",
    "id": "qtpHJHoGaTnl"
   },
   "outputs": [],
   "source": [
    "y_pred_test = model_s.predict(X_test)\n",
    "y_pred=[]\n",
    "for i in y_pred_test:\n",
    "    if i>0.5:                             #converting into 0 and 1 for the threshold 0.5\n",
    "      y_pred.append(1)\n",
    "    else:\n",
    "      y_pred.append(0)"
   ]
  },
  {
   "cell_type": "code",
   "execution_count": 0,
   "metadata": {
    "colab": {
     "base_uri": "https://localhost:8080/",
     "height": 34
    },
    "colab_type": "code",
    "id": "jIq-KjSzag7a",
    "outputId": "8cffdfe5-eb10-4c7c-fcd1-8ea9d8df6c45"
   },
   "outputs": [
    {
     "data": {
      "text/plain": [
       "0.993892093654564"
      ]
     },
     "execution_count": 23,
     "metadata": {
      "tags": []
     },
     "output_type": "execute_result"
    }
   ],
   "source": [
    "accuracy_score(y_test, y_pred)"
   ]
  },
  {
   "cell_type": "code",
   "execution_count": 0,
   "metadata": {
    "colab": {},
    "colab_type": "code",
    "id": "TZWabQS-fMtn"
   },
   "outputs": [],
   "source": [
    "def static_data():\n",
    "    ''' this function breaks the train and test data on the basis of the static labels and stores them in files'''\n",
    "    c=0\n",
    "    k=0\n",
    "    static = []\n",
    "    sta = []\n",
    "    static_y = []\n",
    "    sta_y = []\n",
    "    for i in y_train:\n",
    "        if i==0:\n",
    "            static.append(X_train[c])\n",
    "            static_y.append(Y_train[c])\n",
    "        c+=1\n",
    "    for i in y_pred:\n",
    "        if i==0:\n",
    "            sta.append(X_test[k])\n",
    "            sta_y.append(Y_test[k])\n",
    "        k+=1\n",
    "    X_tr_st = np.array(static)\n",
    "    X_ts_st = np.array(sta)\n",
    "    Y_tr_st = np.array(static_y)\n",
    "    Y_ts_st = np.array(sta_y)\n",
    "\n",
    "    np.save('X_tr_st', X_tr_st)\n",
    "    np.save('Y_tr_st', Y_tr_st)\n",
    "    np.save('X_ts_st', X_ts_st)\n",
    "    np.save('Y_ts_st', Y_ts_st)\n",
    "    return X_tr_st, Y_tr_st, X_ts_st, Y_ts_st"
   ]
  },
  {
   "cell_type": "code",
   "execution_count": 0,
   "metadata": {
    "colab": {},
    "colab_type": "code",
    "id": "prnX0s_RhszV"
   },
   "outputs": [],
   "source": [
    "def dynamic_data():\n",
    "    ''' this function breaks the train and test data on the basis of the dynamic labels and stores them in files '''\n",
    "    c=0\n",
    "    k=0\n",
    "    dynamic=[]\n",
    "    dynamic_y= []\n",
    "    dyn=[]\n",
    "    dyn_y= []\n",
    "\n",
    "    for i in y_train:\n",
    "        if i==1:\n",
    "            dynamic.append(X_train[c])\n",
    "            dynamic_y.append(Y_train[c])\n",
    "        c+=1\n",
    "    for i in y_pred:\n",
    "        if i==1:\n",
    "            dyn.append(X_test[k])\n",
    "            dyn_y.append(Y_test[k])\n",
    "        k+=1\n",
    "    X_tr_dy = np.array(dynamic)\n",
    "    X_ts_dy = np.array(dyn)\n",
    "    Y_tr_dy = np.array(dynamic_y)\n",
    "    Y_ts_dy = np.array(dyn_y)\n",
    "\n",
    "    np.save('X_tr_dy', X_tr_dy)\n",
    "    np.save('Y_tr_dy', Y_tr_dy)\n",
    "    np.save('X_ts_dy', X_ts_dy)\n",
    "    np.save('Y_ts_dy', Y_ts_dy)\n",
    "    return X_tr_dy, Y_tr_dy, X_ts_dy, Y_ts_dy"
   ]
  },
  {
   "cell_type": "code",
   "execution_count": 0,
   "metadata": {
    "colab": {},
    "colab_type": "code",
    "id": "WhaSmRXevPd6"
   },
   "outputs": [],
   "source": [
    "X_tr_st, Y_tr_st, X_ts_st, Y_ts_st= static_data()      #Calling the static and dynamic data with the functions \n",
    "X_tr_dy, Y_tr_dy, X_ts_dy, Y_ts_dy = dynamic_data()\n"
   ]
  },
  {
   "cell_type": "code",
   "execution_count": 0,
   "metadata": {
    "colab": {},
    "colab_type": "code",
    "id": "UJ_hUquSqfgH"
   },
   "outputs": [],
   "source": [
    "def load_static():\n",
    "    X_tr_st = np.load('X_tr_st.npy')                      #Function to load the data from the saved files\n",
    "    Y_tr_st = np.load('Y_tr_st.npy')\n",
    "    X_ts_st = np.load('X_ts_st.npy')\n",
    "    Y_ts_st = np.load('Y_ts_st.npy')\n",
    "\n",
    "    return X_tr_st, Y_tr_st, X_ts_st, Y_ts_st"
   ]
  },
  {
   "cell_type": "code",
   "execution_count": 0,
   "metadata": {
    "colab": {},
    "colab_type": "code",
    "id": "BePrb73ds4bV"
   },
   "outputs": [],
   "source": [
    "def load_dynamic():\n",
    "    X_tr_dy = np.load('X_tr_dy.npy')                  #Function to load the data from the saved files\n",
    "    Y_tr_dy = np.load('Y_tr_dy.npy')\n",
    "    X_ts_dy = np.load('X_ts_dy.npy')\n",
    "    Y_ts_dy = np.load('Y_ts_dy.npy')\n",
    "\n",
    "    return X_tr_dy, Y_tr_dy, X_ts_dy, Y_ts_dy"
   ]
  },
  {
   "cell_type": "markdown",
   "metadata": {
    "colab_type": "text",
    "id": "hoLyVXVKjidd"
   },
   "source": [
    "****Now we build models separately on the static data and dynamic data with different structures.****"
   ]
  },
  {
   "cell_type": "code",
   "execution_count": 0,
   "metadata": {
    "colab": {},
    "colab_type": "code",
    "id": "7ZHaPsH1gAfL"
   },
   "outputs": [],
   "source": [
    "def best_hyperparameters_dy(ker1,ker2,drp,neurons):\n",
    "\n",
    "    model = Sequential()\n",
    "    # Configuring the parameters\n",
    "    model.add(Conv1D(ker1, kernel_size=3, padding='same', input_shape=(128,9), activation='relu', kernel_initializer='glorot_normal', strides=1))\n",
    "    model.add(MaxPooling1D())\n",
    "    model.add(Dropout(drp))\n",
    "\n",
    "    model.add(Conv1D(ker2, kernel_size=2, padding='same',activation='relu', kernel_initializer='glorot_normal', strides=1 ))\n",
    "\n",
    "    model.add(Flatten())\n",
    "    model.add(Dense(neurons, kernel_initializer='glorot_normal', activation='relu'))\n",
    "    model.add(BatchNormalization())\n",
    "\n",
    "    model.add(Dense(n_classes, activation='sigmoid',kernel_initializer='glorot_normal'))\n",
    "\n",
    "    model.compile(loss='categorical_crossentropy', metrics=['accuracy'], optimizer='adam')\n",
    "    \n",
    "    return model"
   ]
  },
  {
   "cell_type": "code",
   "execution_count": 0,
   "metadata": {
    "colab": {
     "base_uri": "https://localhost:8080/",
     "height": 190
    },
    "colab_type": "code",
    "id": "brPmh7ErgARF",
    "outputId": "044f7aea-7382-4e02-8178-7a0b8788e0c8"
   },
   "outputs": [
    {
     "name": "stderr",
     "output_type": "stream",
     "text": [
      "/usr/local/lib/python3.6/dist-packages/sklearn/model_selection/_split.py:1978: FutureWarning: The default value of cv will change from 3 to 5 in version 0.22. Specify it explicitly to silence this warning.\n",
      "  warnings.warn(CV_WARNING, FutureWarning)\n",
      "W0811 16:59:14.617902 140332016301952 deprecation_wrapper.py:119] From /usr/local/lib/python3.6/dist-packages/keras/backend/tensorflow_backend.py:3976: The name tf.nn.max_pool is deprecated. Please use tf.nn.max_pool2d instead.\n",
      "\n",
      "W0811 17:03:15.637176 140332016301952 nn_ops.py:4224] Large dropout rate: 0.6 (>0.5). In TensorFlow 2.x, dropout() uses dropout rate instead of keep_prob. Please ensure that this is intended.\n",
      "W0811 17:03:27.892271 140332016301952 nn_ops.py:4224] Large dropout rate: 0.6 (>0.5). In TensorFlow 2.x, dropout() uses dropout rate instead of keep_prob. Please ensure that this is intended.\n",
      "W0811 17:03:40.270517 140332016301952 nn_ops.py:4224] Large dropout rate: 0.6 (>0.5). In TensorFlow 2.x, dropout() uses dropout rate instead of keep_prob. Please ensure that this is intended.\n",
      "W0811 17:03:52.866335 140332016301952 nn_ops.py:4224] Large dropout rate: 0.6 (>0.5). In TensorFlow 2.x, dropout() uses dropout rate instead of keep_prob. Please ensure that this is intended.\n",
      "W0811 17:04:05.913049 140332016301952 nn_ops.py:4224] Large dropout rate: 0.6 (>0.5). In TensorFlow 2.x, dropout() uses dropout rate instead of keep_prob. Please ensure that this is intended.\n"
     ]
    }
   ],
   "source": [
    "ker1 = [30,35]\n",
    "ker2= [50,45]\n",
    "neurons = [40,45]\n",
    "drp = [0.5,0.6]\n",
    "from keras.wrappers.scikit_learn import KerasClassifier\n",
    "from sklearn.model_selection import GridSearchCV\n",
    "\n",
    "model = KerasClassifier(build_fn=best_hyperparameters_dy, epochs=10, batch_size=batch_size, verbose=0)\n",
    "param_grid = dict(ker1=ker1, ker2=ker2 ,neurons=neurons, drp=drp)\n",
    "\n",
    "grid = GridSearchCV(estimator=model, param_grid=param_grid)\n",
    "grid_result_dy = grid.fit(X_tr_dy, Y_tr_dy)"
   ]
  },
  {
   "cell_type": "code",
   "execution_count": 0,
   "metadata": {
    "colab": {
     "base_uri": "https://localhost:8080/",
     "height": 306
    },
    "colab_type": "code",
    "id": "RTwCeF4YgAPb",
    "outputId": "60556c6a-4ea4-4cb1-9338-334ad1726311"
   },
   "outputs": [
    {
     "name": "stdout",
     "output_type": "stream",
     "text": [
      "Best: 0.933638 using {'drp': 0.5, 'ker1': 30, 'ker2': 50, 'neurons': 40}\n",
      "0.933638 (0.039289) with: {'drp': 0.5, 'ker1': 30, 'ker2': 50, 'neurons': 40}\n",
      "0.865449 (0.108785) with: {'drp': 0.5, 'ker1': 30, 'ker2': 50, 'neurons': 45}\n",
      "0.885236 (0.023888) with: {'drp': 0.5, 'ker1': 30, 'ker2': 45, 'neurons': 40}\n",
      "0.900457 (0.006628) with: {'drp': 0.5, 'ker1': 30, 'ker2': 45, 'neurons': 45}\n",
      "0.850228 (0.111632) with: {'drp': 0.5, 'ker1': 35, 'ker2': 50, 'neurons': 40}\n",
      "0.926027 (0.022518) with: {'drp': 0.5, 'ker1': 35, 'ker2': 50, 'neurons': 45}\n",
      "0.909285 (0.020289) with: {'drp': 0.5, 'ker1': 35, 'ker2': 45, 'neurons': 40}\n",
      "0.891629 (0.102729) with: {'drp': 0.5, 'ker1': 35, 'ker2': 45, 'neurons': 45}\n",
      "0.768037 (0.107455) with: {'drp': 0.6, 'ker1': 30, 'ker2': 50, 'neurons': 40}\n",
      "0.933029 (0.024292) with: {'drp': 0.6, 'ker1': 30, 'ker2': 50, 'neurons': 45}\n",
      "0.904718 (0.071168) with: {'drp': 0.6, 'ker1': 30, 'ker2': 45, 'neurons': 40}\n",
      "0.891933 (0.085137) with: {'drp': 0.6, 'ker1': 30, 'ker2': 45, 'neurons': 45}\n",
      "0.873973 (0.049624) with: {'drp': 0.6, 'ker1': 35, 'ker2': 50, 'neurons': 40}\n",
      "0.892542 (0.013996) with: {'drp': 0.6, 'ker1': 35, 'ker2': 50, 'neurons': 45}\n",
      "0.898326 (0.083651) with: {'drp': 0.6, 'ker1': 35, 'ker2': 45, 'neurons': 40}\n",
      "0.875799 (0.095628) with: {'drp': 0.6, 'ker1': 35, 'ker2': 45, 'neurons': 45}\n"
     ]
    }
   ],
   "source": [
    "print(\"Best: %f using %s\" % (grid_result_dy.best_score_, grid_result_dy.best_params_))\n",
    "means = grid_result_dy.cv_results_['mean_test_score']\n",
    "stds = grid_result_dy.cv_results_['std_test_score']\n",
    "params = grid_result_dy.cv_results_['params']\n",
    "for mean, stdev, param in zip(means, stds, params):\n",
    "    print(\"%f (%f) with: %r\" % (mean, stdev, param))"
   ]
  },
  {
   "cell_type": "code",
   "execution_count": 0,
   "metadata": {
    "colab": {
     "base_uri": "https://localhost:8080/",
     "height": 1000
    },
    "colab_type": "code",
    "id": "vdVLgnv4gAMh",
    "outputId": "1eb2759f-a6b7-4eac-c2aa-aca8eebbfc18"
   },
   "outputs": [
    {
     "name": "stdout",
     "output_type": "stream",
     "text": [
      "Train on 3285 samples, validate on 1373 samples\n",
      "Epoch 1/30\n",
      "3285/3285 [==============================] - 26s 8ms/step - loss: 1.5424 - acc: 0.4158 - val_loss: 1.7398 - val_acc: 0.5062\n",
      "Epoch 2/30\n",
      "3285/3285 [==============================] - 3s 781us/step - loss: 1.0217 - acc: 0.7610 - val_loss: 0.9159 - val_acc: 0.6424\n",
      "Epoch 3/30\n",
      "3285/3285 [==============================] - 3s 776us/step - loss: 0.5058 - acc: 0.9209 - val_loss: 0.7227 - val_acc: 0.7495\n",
      "Epoch 4/30\n",
      "3285/3285 [==============================] - 3s 775us/step - loss: 0.2253 - acc: 0.9583 - val_loss: 0.4572 - val_acc: 0.8390\n",
      "Epoch 5/30\n",
      "3285/3285 [==============================] - 3s 772us/step - loss: 0.1130 - acc: 0.9790 - val_loss: 0.3842 - val_acc: 0.8755\n",
      "Epoch 6/30\n",
      "3285/3285 [==============================] - 3s 771us/step - loss: 0.0706 - acc: 0.9857 - val_loss: 0.2631 - val_acc: 0.9082\n",
      "Epoch 7/30\n",
      "3285/3285 [==============================] - 2s 755us/step - loss: 0.0545 - acc: 0.9884 - val_loss: 0.3117 - val_acc: 0.8820\n",
      "Epoch 8/30\n",
      "3285/3285 [==============================] - 2s 761us/step - loss: 0.0498 - acc: 0.9869 - val_loss: 0.2830 - val_acc: 0.8915\n",
      "Epoch 9/30\n",
      "3285/3285 [==============================] - 2s 712us/step - loss: 0.0331 - acc: 0.9921 - val_loss: 0.4271 - val_acc: 0.8427\n",
      "Epoch 10/30\n",
      "3285/3285 [==============================] - 2s 736us/step - loss: 0.0252 - acc: 0.9933 - val_loss: 0.2123 - val_acc: 0.9308\n",
      "Epoch 11/30\n",
      "3285/3285 [==============================] - 2s 735us/step - loss: 0.0272 - acc: 0.9930 - val_loss: 0.2204 - val_acc: 0.9264\n",
      "Epoch 12/30\n",
      "3285/3285 [==============================] - 3s 781us/step - loss: 0.0208 - acc: 0.9942 - val_loss: 0.2674 - val_acc: 0.9133\n",
      "Epoch 13/30\n",
      "3285/3285 [==============================] - 2s 760us/step - loss: 0.0150 - acc: 0.9967 - val_loss: 0.1819 - val_acc: 0.9505\n",
      "Epoch 14/30\n",
      "3285/3285 [==============================] - 2s 720us/step - loss: 0.0192 - acc: 0.9948 - val_loss: 0.2648 - val_acc: 0.9330\n",
      "Epoch 15/30\n",
      "3285/3285 [==============================] - 2s 728us/step - loss: 0.0168 - acc: 0.9957 - val_loss: 0.1564 - val_acc: 0.9599\n",
      "Epoch 16/30\n",
      "3285/3285 [==============================] - 2s 744us/step - loss: 0.0241 - acc: 0.9933 - val_loss: 0.2558 - val_acc: 0.9286\n",
      "Epoch 17/30\n",
      "3285/3285 [==============================] - 2s 731us/step - loss: 0.0215 - acc: 0.9945 - val_loss: 0.3239 - val_acc: 0.9031\n",
      "Epoch 18/30\n",
      "3285/3285 [==============================] - 2s 722us/step - loss: 0.0123 - acc: 0.9960 - val_loss: 0.1783 - val_acc: 0.9483\n",
      "Epoch 19/30\n",
      "3285/3285 [==============================] - 2s 742us/step - loss: 0.0091 - acc: 0.9976 - val_loss: 0.2340 - val_acc: 0.9425\n",
      "Epoch 20/30\n",
      "3285/3285 [==============================] - 2s 749us/step - loss: 0.0082 - acc: 0.9988 - val_loss: 0.1319 - val_acc: 0.9614\n",
      "Epoch 21/30\n",
      "3285/3285 [==============================] - 2s 759us/step - loss: 0.0171 - acc: 0.9945 - val_loss: 0.2345 - val_acc: 0.9432\n",
      "Epoch 22/30\n",
      "3285/3285 [==============================] - 2s 760us/step - loss: 0.0092 - acc: 0.9976 - val_loss: 0.1957 - val_acc: 0.9417\n",
      "Epoch 23/30\n",
      "3285/3285 [==============================] - 2s 726us/step - loss: 0.0116 - acc: 0.9967 - val_loss: 0.1341 - val_acc: 0.9570\n",
      "Epoch 24/30\n",
      "3285/3285 [==============================] - 2s 757us/step - loss: 0.0191 - acc: 0.9936 - val_loss: 0.2894 - val_acc: 0.9337\n",
      "Epoch 25/30\n",
      "3285/3285 [==============================] - 3s 787us/step - loss: 0.0135 - acc: 0.9957 - val_loss: 0.1628 - val_acc: 0.9599\n",
      "Epoch 26/30\n",
      "3285/3285 [==============================] - 2s 749us/step - loss: 0.0122 - acc: 0.9976 - val_loss: 0.2304 - val_acc: 0.9359\n",
      "Epoch 27/30\n",
      "3285/3285 [==============================] - 2s 729us/step - loss: 0.0054 - acc: 0.9985 - val_loss: 0.2050 - val_acc: 0.9425\n",
      "Epoch 28/30\n",
      "3285/3285 [==============================] - 2s 749us/step - loss: 0.0060 - acc: 0.9988 - val_loss: 0.1216 - val_acc: 0.9636\n",
      "Epoch 29/30\n",
      "3285/3285 [==============================] - 3s 764us/step - loss: 0.0062 - acc: 0.9979 - val_loss: 0.1239 - val_acc: 0.9629\n",
      "Epoch 30/30\n",
      "3285/3285 [==============================] - 3s 763us/step - loss: 0.0160 - acc: 0.9945 - val_loss: 0.1572 - val_acc: 0.9599\n",
      "1373/1373 [==============================] - 0s 286us/step\n"
     ]
    },
    {
     "data": {
      "text/plain": [
       "[0.15724907209655814, 0.9599417334304443]"
      ]
     },
     "execution_count": 84,
     "metadata": {
      "tags": []
     },
     "output_type": "execute_result"
    }
   ],
   "source": [
    "model_dy= best_hyperparameters_dy(30,50,0.5,40)\n",
    "model_dy.fit(X_tr_dy, Y_tr_dy, epochs=30, batch_size=batch_size, validation_data= (X_ts_dy, Y_ts_dy))\n",
    "model_dy.evaluate(X_ts_dy,Y_ts_dy)"
   ]
  },
  {
   "cell_type": "code",
   "execution_count": 0,
   "metadata": {
    "colab": {
     "base_uri": "https://localhost:8080/",
     "height": 136
    },
    "colab_type": "code",
    "id": "wOmHwai3rMnz",
    "outputId": "a84a1401-1965-476f-aaf1-a1a49a64bcd9"
   },
   "outputs": [
    {
     "name": "stdout",
     "output_type": "stream",
     "text": [
      "Pred                WALKING  WALKING_DOWNSTAIRS  WALKING_UPSTAIRS\n",
      "True                                                             \n",
      "SITTING                   2                   0                 2\n",
      "STANDING                  5                   0                 3\n",
      "WALKING                 480                  16                 0\n",
      "WALKING_DOWNSTAIRS        5                 410                 0\n",
      "WALKING_UPSTAIRS          3                  24               443\n"
     ]
    }
   ],
   "source": [
    "# Confusion Matrix\n",
    "print(confusion_matrix(Y_ts_dy, model_dy.predict(X_ts_dy)))"
   ]
  },
  {
   "cell_type": "code",
   "execution_count": 0,
   "metadata": {
    "colab": {},
    "colab_type": "code",
    "id": "9vv0eOAKVYVs"
   },
   "outputs": [],
   "source": [
    "#Model for the static activities\n",
    "def best_hyperparameters_st(k1,k2,drp,neurons):\n",
    "  \n",
    "    model = Sequential()\n",
    "    # Configuring the parameters\n",
    "    model.add(Conv1D(k1, kernel_size=2, padding='same', input_shape=(128,9), activation='relu', kernel_initializer='glorot_normal', strides=1))\n",
    "\n",
    "    model.add(Conv1D(k2, kernel_size=3, padding='same', activation='relu', kernel_initializer='glorot_normal', strides=1))\n",
    "    model.add(Dropout(drp))\n",
    "\n",
    "    model.add(Flatten())\n",
    "\n",
    "    model.add(Dense(neurons, kernel_initializer='glorot_normal', activation='relu'))\n",
    "    model.add(Dropout(drp))\n",
    "    model.add(BatchNormalization())\n",
    "\n",
    "    model.add(Dense(n_classes, activation='sigmoid',kernel_initializer='glorot_normal'))\n",
    "\n",
    "    model.compile(loss='categorical_crossentropy', metrics=['accuracy'], optimizer='adam')\n",
    "    \n",
    "    return model"
   ]
  },
  {
   "cell_type": "code",
   "execution_count": 0,
   "metadata": {
    "colab": {
     "base_uri": "https://localhost:8080/",
     "height": 71
    },
    "colab_type": "code",
    "id": "mRKa6YtKVYLg",
    "outputId": "8c52c452-e784-41c6-c3b9-4ece7d72964c"
   },
   "outputs": [
    {
     "name": "stderr",
     "output_type": "stream",
     "text": [
      "/usr/local/lib/python3.6/dist-packages/sklearn/model_selection/_split.py:1978: FutureWarning: The default value of cv will change from 3 to 5 in version 0.22. Specify it explicitly to silence this warning.\n",
      "  warnings.warn(CV_WARNING, FutureWarning)\n"
     ]
    }
   ],
   "source": [
    "k1 = [40,32]\n",
    "k2= [40,45]\n",
    "neurons = [40,45]\n",
    "drp = [0.5,0.6]\n",
    "\n",
    "model = KerasClassifier(build_fn=best_hyperparameters_st, epochs=20, batch_size=batch_size, verbose=0)\n",
    "param_grid = dict(k1=k1, k2=k2 ,neurons=neurons, drp=drp)\n",
    "\n",
    "grid = GridSearchCV(estimator=model, param_grid=param_grid)\n",
    "grid_result_st = grid.fit(X_tr_st, Y_tr_st)"
   ]
  },
  {
   "cell_type": "code",
   "execution_count": 0,
   "metadata": {
    "colab": {
     "base_uri": "https://localhost:8080/",
     "height": 306
    },
    "colab_type": "code",
    "id": "uEaUJoSVVYEt",
    "outputId": "d6d5ca89-30fb-45f8-a2ee-270f3daeba5c"
   },
   "outputs": [
    {
     "name": "stdout",
     "output_type": "stream",
     "text": [
      "Best: 0.896976 using {'drp': 0.6, 'k1': 40, 'k2': 45, 'neurons': 40}\n",
      "0.871650 (0.017512) with: {'drp': 0.5, 'k1': 40, 'k2': 40, 'neurons': 40}\n",
      "0.888616 (0.009429) with: {'drp': 0.5, 'k1': 40, 'k2': 40, 'neurons': 45}\n",
      "0.890091 (0.003581) with: {'drp': 0.5, 'k1': 40, 'k2': 45, 'neurons': 40}\n",
      "0.890829 (0.016380) with: {'drp': 0.5, 'k1': 40, 'k2': 45, 'neurons': 45}\n",
      "0.889353 (0.008317) with: {'drp': 0.5, 'k1': 32, 'k2': 40, 'neurons': 40}\n",
      "0.885911 (0.002885) with: {'drp': 0.5, 'k1': 32, 'k2': 40, 'neurons': 45}\n",
      "0.884436 (0.009241) with: {'drp': 0.5, 'k1': 32, 'k2': 45, 'neurons': 40}\n",
      "0.879764 (0.013734) with: {'drp': 0.5, 'k1': 32, 'k2': 45, 'neurons': 45}\n",
      "0.882469 (0.030871) with: {'drp': 0.6, 'k1': 40, 'k2': 40, 'neurons': 40}\n",
      "0.895500 (0.018822) with: {'drp': 0.6, 'k1': 40, 'k2': 40, 'neurons': 45}\n",
      "0.896976 (0.010639) with: {'drp': 0.6, 'k1': 40, 'k2': 45, 'neurons': 40}\n",
      "0.883206 (0.005958) with: {'drp': 0.6, 'k1': 40, 'k2': 45, 'neurons': 45}\n",
      "0.887632 (0.024194) with: {'drp': 0.6, 'k1': 32, 'k2': 40, 'neurons': 40}\n",
      "0.889353 (0.026282) with: {'drp': 0.6, 'k1': 32, 'k2': 40, 'neurons': 45}\n",
      "0.885419 (0.042337) with: {'drp': 0.6, 'k1': 32, 'k2': 45, 'neurons': 40}\n",
      "0.895992 (0.029856) with: {'drp': 0.6, 'k1': 32, 'k2': 45, 'neurons': 45}\n"
     ]
    }
   ],
   "source": [
    "print(\"Best: %f using %s\" % (grid_result_st.best_score_, grid_result_st.best_params_))\n",
    "means = grid_result_st.cv_results_['mean_test_score']\n",
    "stds = grid_result_st.cv_results_['std_test_score']\n",
    "params = grid_result_st.cv_results_['params']\n",
    "for mean, stdev, param in zip(means, stds, params):\n",
    "    print(\"%f (%f) with: %r\" % (mean, stdev, param))"
   ]
  },
  {
   "cell_type": "code",
   "execution_count": 0,
   "metadata": {
    "colab": {
     "base_uri": "https://localhost:8080/",
     "height": 1000
    },
    "colab_type": "code",
    "id": "1lpDUSLnVX7G",
    "outputId": "49c6457c-1f37-49ce-9820-782a3dc27ac3"
   },
   "outputs": [
    {
     "name": "stdout",
     "output_type": "stream",
     "text": [
      "Train on 4067 samples, validate on 1574 samples\n",
      "Epoch 1/30\n",
      "4067/4067 [==============================] - 48s 12ms/step - loss: 0.8361 - acc: 0.8458 - val_loss: 0.6005 - val_acc: 0.8062\n",
      "Epoch 2/30\n",
      "4067/4067 [==============================] - 8s 2ms/step - loss: 0.3182 - acc: 0.8977 - val_loss: 0.4776 - val_acc: 0.8456\n",
      "Epoch 3/30\n",
      "4067/4067 [==============================] - 8s 2ms/step - loss: 0.2287 - acc: 0.9088 - val_loss: 0.4271 - val_acc: 0.8450\n",
      "Epoch 4/30\n",
      "4067/4067 [==============================] - 9s 2ms/step - loss: 0.2232 - acc: 0.9112 - val_loss: 0.4079 - val_acc: 0.8659\n",
      "Epoch 5/30\n",
      "4067/4067 [==============================] - 9s 2ms/step - loss: 0.2108 - acc: 0.9147 - val_loss: 0.4653 - val_acc: 0.8227\n",
      "Epoch 6/30\n",
      "4067/4067 [==============================] - 9s 2ms/step - loss: 0.2055 - acc: 0.9139 - val_loss: 0.5085 - val_acc: 0.8545\n",
      "Epoch 7/30\n",
      "4067/4067 [==============================] - 9s 2ms/step - loss: 0.1892 - acc: 0.9225 - val_loss: 0.5099 - val_acc: 0.8443\n",
      "Epoch 8/30\n",
      "4067/4067 [==============================] - 9s 2ms/step - loss: 0.1876 - acc: 0.9233 - val_loss: 0.4326 - val_acc: 0.8710\n",
      "Epoch 9/30\n",
      "4067/4067 [==============================] - 9s 2ms/step - loss: 0.1902 - acc: 0.9194 - val_loss: 0.5496 - val_acc: 0.8583\n",
      "Epoch 10/30\n",
      "4067/4067 [==============================] - 8s 2ms/step - loss: 0.1822 - acc: 0.9260 - val_loss: 0.4783 - val_acc: 0.8729\n",
      "Epoch 11/30\n",
      "4067/4067 [==============================] - 8s 2ms/step - loss: 0.1752 - acc: 0.9282 - val_loss: 0.3830 - val_acc: 0.8799\n",
      "Epoch 12/30\n",
      "4067/4067 [==============================] - 8s 2ms/step - loss: 0.1709 - acc: 0.9324 - val_loss: 0.4032 - val_acc: 0.8761\n",
      "Epoch 13/30\n",
      "4067/4067 [==============================] - 9s 2ms/step - loss: 0.1717 - acc: 0.9248 - val_loss: 0.3705 - val_acc: 0.8952\n",
      "Epoch 14/30\n",
      "4067/4067 [==============================] - 8s 2ms/step - loss: 0.1629 - acc: 0.9348 - val_loss: 0.4886 - val_acc: 0.8723\n",
      "Epoch 15/30\n",
      "4067/4067 [==============================] - 8s 2ms/step - loss: 0.1665 - acc: 0.9348 - val_loss: 0.3968 - val_acc: 0.8952\n",
      "Epoch 16/30\n",
      "4067/4067 [==============================] - 8s 2ms/step - loss: 0.1546 - acc: 0.9400 - val_loss: 0.3718 - val_acc: 0.8977\n",
      "Epoch 17/30\n",
      "4067/4067 [==============================] - 8s 2ms/step - loss: 0.1590 - acc: 0.9326 - val_loss: 0.3985 - val_acc: 0.8939\n",
      "Epoch 18/30\n",
      "4067/4067 [==============================] - 8s 2ms/step - loss: 0.1601 - acc: 0.9343 - val_loss: 0.4326 - val_acc: 0.9034\n",
      "Epoch 19/30\n",
      "4067/4067 [==============================] - 8s 2ms/step - loss: 0.1514 - acc: 0.9393 - val_loss: 0.4588 - val_acc: 0.8723\n",
      "Epoch 20/30\n",
      "4067/4067 [==============================] - 9s 2ms/step - loss: 0.1500 - acc: 0.9363 - val_loss: 0.4165 - val_acc: 0.8939\n",
      "Epoch 21/30\n",
      "4067/4067 [==============================] - 8s 2ms/step - loss: 0.1422 - acc: 0.9437 - val_loss: 0.4053 - val_acc: 0.9034\n",
      "Epoch 22/30\n",
      "4067/4067 [==============================] - 9s 2ms/step - loss: 0.1423 - acc: 0.9407 - val_loss: 0.4504 - val_acc: 0.9123\n",
      "Epoch 23/30\n",
      "4067/4067 [==============================] - 8s 2ms/step - loss: 0.1318 - acc: 0.9430 - val_loss: 0.4501 - val_acc: 0.8793\n",
      "Epoch 24/30\n",
      "4067/4067 [==============================] - 9s 2ms/step - loss: 0.1332 - acc: 0.9439 - val_loss: 0.4309 - val_acc: 0.9003\n",
      "Epoch 25/30\n",
      "4067/4067 [==============================] - 8s 2ms/step - loss: 0.1256 - acc: 0.9479 - val_loss: 0.4548 - val_acc: 0.9123\n",
      "Epoch 26/30\n",
      "4067/4067 [==============================] - 8s 2ms/step - loss: 0.1168 - acc: 0.9516 - val_loss: 0.4208 - val_acc: 0.9155\n",
      "Epoch 27/30\n",
      "4067/4067 [==============================] - 9s 2ms/step - loss: 0.1209 - acc: 0.9437 - val_loss: 0.4310 - val_acc: 0.9187\n",
      "Epoch 28/30\n",
      "4067/4067 [==============================] - 8s 2ms/step - loss: 0.1292 - acc: 0.9452 - val_loss: 0.4406 - val_acc: 0.8983\n",
      "Epoch 29/30\n",
      "4067/4067 [==============================] - 9s 2ms/step - loss: 0.1172 - acc: 0.9496 - val_loss: 0.4750 - val_acc: 0.9149\n",
      "Epoch 30/30\n",
      "4067/4067 [==============================] - 9s 2ms/step - loss: 0.1137 - acc: 0.9530 - val_loss: 0.3951 - val_acc: 0.9212\n",
      "1574/1574 [==============================] - 1s 658us/step\n"
     ]
    },
    {
     "data": {
      "text/plain": [
       "[0.3950737391419832, 0.9212198221092758]"
      ]
     },
     "execution_count": 108,
     "metadata": {
      "tags": []
     },
     "output_type": "execute_result"
    }
   ],
   "source": [
    "model_st= best_hyperparameters_st(40,45,0.6,40)\n",
    "model_st.fit(X_tr_st, Y_tr_st, epochs=30, batch_size=16, validation_data= (X_ts_st, Y_ts_st))\n",
    "model_st.evaluate(X_ts_st,Y_ts_st)"
   ]
  },
  {
   "cell_type": "code",
   "execution_count": 66,
   "metadata": {
    "colab": {
     "base_uri": "https://localhost:8080/",
     "height": 136
    },
    "colab_type": "code",
    "id": "PMJaCM4u86QM",
    "outputId": "c688c077-0693-45a0-e3c8-339d9d486ae1"
   },
   "outputs": [
    {
     "name": "stdout",
     "output_type": "stream",
     "text": [
      "Pred                LAYING  SITTING  STANDING\n",
      "True                                         \n",
      "LAYING                 537        0         0\n",
      "SITTING                  2      382       103\n",
      "STANDING                 0       74       450\n",
      "WALKING_DOWNSTAIRS       0        0         5\n",
      "WALKING_UPSTAIRS         0        0         1\n"
     ]
    }
   ],
   "source": [
    "# Confusion Matrix\n",
    "print(confusion_matrix(Y_ts_st, model_st.predict(X_ts_st)))"
   ]
  },
  {
   "cell_type": "code",
   "execution_count": 0,
   "metadata": {
    "colab": {
     "base_uri": "https://localhost:8080/",
     "height": 34
    },
    "colab_type": "code",
    "id": "tuB_9wkF-yGZ",
    "outputId": "882747fa-dc22-4165-d423-64f5b9673316"
   },
   "outputs": [
    {
     "name": "stdout",
     "output_type": "stream",
     "text": [
      "Mean accuracy over the static and dynamic data is: 94.055\n"
     ]
    }
   ],
   "source": [
    "print('Mean accuracy over the static and dynamic data is:',np.add(92.12,95.99)/2.0)"
   ]
  },
  {
   "cell_type": "markdown",
   "metadata": {
    "colab_type": "text",
    "id": "plJ4Jvu0lg3U"
   },
   "source": [
    "## Conclusion"
   ]
  },
  {
   "cell_type": "markdown",
   "metadata": {
    "colab_type": "text",
    "id": "jIknb8Vx5P6v"
   },
   "source": [
    "****Following are the steps followed in solving this case study:****"
   ]
  },
  {
   "cell_type": "markdown",
   "metadata": {
    "colab_type": "text",
    "id": "1XC-C0JTlnzF"
   },
   "source": [
    "- __Objective:__ Given a Datapoint with various attribute values from the activities performed by an individual, we have to predict the activity that was performed.</br>\n",
    "- __Data Loading:__ We are provided with data in two forms, one with 561 dimensional and the other data which is created using the actual readings observed from the activity graph. The later data is a 128 dimensional data which is created from a window of 2.56 seconds and an overlap of 50% at each iteration. The 561 dimensional data is expert created data and requires domain knowledge to understand it.</br>\n",
    "- __Data Cleaning:__ We check for the duplicates and remove the (-,(),,) from the features, we check for the nan values . We check for the data imbalance and find out that our data is balanced. </br>\n",
    "- __EDA:__ We perform some EDA on the 561 dim data and then apply tsne . We find out that the static activities and the dynamic activities can be differentiated easily. Even After increasing the perplexity we are not able to differentiate the standing and sitting activity.</br>\n",
    "- __Machine Learning Models:__ We build machine learning models like Logistic regression, SVM, Random Forest and Gradient Boosted decision trees on top of the 561 dimensional data that we are provided. We get a pretty decent accuracy with these models.</br>\n",
    "- __Deep Learning Models:__ Now its turn for the Deep Learning models, we build LSTM model on th temporal data and we get accuracy around 91%. But this is just using the 128 dimensional data extracted from the wimdows of the activity graph along the three axes. So we want a better accuracy using the same data building more complex models. So we use Divide and conquer method to build better models. We break our data into static and dynamic activity data using an LSTM model.As now we have separate statc and dynamic activity data we build independent models on these data using Conv1D and note the accuracy obtained . Using this method we land up having a better accuracy than just using LSTM model alone."
   ]
  },
  {
   "cell_type": "code",
   "execution_count": 0,
   "metadata": {
    "colab": {},
    "colab_type": "code",
    "id": "-RKBKY6_llEM"
   },
   "outputs": [],
   "source": [
    "from prettytable import PrettyTable"
   ]
  },
  {
   "cell_type": "code",
   "execution_count": 63,
   "metadata": {
    "colab": {
     "base_uri": "https://localhost:8080/",
     "height": 255
    },
    "colab_type": "code",
    "id": "RfsoAO1j62vN",
    "outputId": "4b8f0593-6fca-4efa-e9ae-7a0607b96186"
   },
   "outputs": [
    {
     "name": "stdout",
     "output_type": "stream",
     "text": [
      "+------------------------------+----------+\n",
      "|            Model             | Accuracy |\n",
      "+------------------------------+----------+\n",
      "|     Logistic Regression      |  96.27   |\n",
      "|          Linear SVC          |  96.61   |\n",
      "|           RBF SVM            |  96.27   |\n",
      "|        Decision Tree         |  86.43   |\n",
      "|         RandomForest         |  91.31   |\n",
      "|       Gradient Boosted       |  91.31   |\n",
      "|             LSTM             |  90.19   |\n",
      "| Divide and Conquer (Static)  |   96.0   |\n",
      "| Divide and Conquer (Dynamic) |  92.13   |\n",
      "|    Divide and Conquer avg    |  94.06   |\n",
      "+------------------------------+----------+\n"
     ]
    }
   ],
   "source": [
    "x= PrettyTable(['Model','Accuracy'])\n",
    "x.add_row(['Logistic Regression',96.27])\n",
    "x.add_row(['Linear SVC',96.61])\n",
    "x.add_row(['RBF SVM',96.27])\n",
    "x.add_row(['Decision Tree',86.43])\n",
    "x.add_row(['RandomForest',91.31])\n",
    "x.add_row(['Gradient Boosted',91.31])\n",
    "x.add_row(['LSTM',90.19])\n",
    "x.add_row(['Divide and Conquer (Static)',96.00])\n",
    "x.add_row(['Divide and Conquer (Dynamic)',92.13])\n",
    "x.add_row(['Divide and Conquer avg',94.06])\n",
    "print(x)"
   ]
  },
  {
   "cell_type": "code",
   "execution_count": 0,
   "metadata": {
    "colab": {},
    "colab_type": "code",
    "id": "kWawbs_M_tfE"
   },
   "outputs": [],
   "source": []
  }
 ],
 "metadata": {
  "colab": {
   "collapsed_sections": [],
   "name": "HAR_assgn.ipynb",
   "provenance": [],
   "version": "0.3.2"
  },
  "kernelspec": {
   "display_name": "Python 3",
   "language": "python",
   "name": "python3"
  },
  "language_info": {
   "codemirror_mode": {
    "name": "ipython",
    "version": 3
   },
   "file_extension": ".py",
   "mimetype": "text/x-python",
   "name": "python",
   "nbconvert_exporter": "python",
   "pygments_lexer": "ipython3",
   "version": "3.6.5"
  }
 },
 "nbformat": 4,
 "nbformat_minor": 1
}
